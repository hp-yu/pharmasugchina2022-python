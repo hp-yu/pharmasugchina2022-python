{
 "cells": [
  {
   "cell_type": "markdown",
   "id": "e0350826-f5ba-422e-a5e7-e5411d4ce8e5",
   "metadata": {},
   "source": [
    "# Data input/output\n",
    "* read excel/csv/sas dataset\n",
    "* export excel\n",
    "* xlsxwriter\n"
   ]
  },
  {
   "cell_type": "code",
   "execution_count": null,
   "id": "6fb05ab4-53a9-4f3a-9a7c-349288b41491",
   "metadata": {
    "tags": []
   },
   "outputs": [],
   "source": [
    "import pandas as pd\n",
    "import numpy as np"
   ]
  },
  {
   "cell_type": "code",
   "execution_count": null,
   "id": "2db4afd4-90bb-4d9b-9989-c035599ebd3a",
   "metadata": {},
   "outputs": [],
   "source": [
    "# read excel\n",
    "df_DM_EXCEL=pd.read_excel('./data/import_data/dm001_1.xlsx',sheet_name='Sheet1')\n",
    "df_DM_EXCEL.head()"
   ]
  },
  {
   "cell_type": "code",
   "execution_count": null,
   "id": "83c0a378-fb45-4c32-b03b-154a121f9124",
   "metadata": {
    "tags": []
   },
   "outputs": [],
   "source": [
    "# read csv\n",
    "df_DM_CSV=pd.read_csv('./data/import_data/dm001_1.csv')\n",
    "df_DM_CSV.head()"
   ]
  },
  {
   "cell_type": "code",
   "execution_count": null,
   "id": "2c7c80c0-164a-47cb-b210-8b301cabd084",
   "metadata": {},
   "outputs": [],
   "source": [
    "# read sas\n",
    "from sas7bdat import SAS7BDAT\n",
    "f=SAS7BDAT('./data/import_data/dm001_1.sas7bdat')\n",
    "df_DM_SAS=f.to_data_frame()\n",
    "f.close()\n",
    "df_DM_SAS.head()"
   ]
  },
  {
   "cell_type": "code",
   "execution_count": null,
   "id": "16c07b7d-22f0-4347-acd4-70ae517df9d5",
   "metadata": {},
   "outputs": [],
   "source": [
    "# mete data info: f.header\n",
    "f.header"
   ]
  },
  {
   "cell_type": "code",
   "execution_count": null,
   "id": "646e2420-7b29-4a61-b508-27247ff364b9",
   "metadata": {},
   "outputs": [],
   "source": [
    "# output excel\n",
    "df_DM_SAS.to_excel('DM.xlsx',sheet_name='DM_SAS')"
   ]
  },
  {
   "cell_type": "code",
   "execution_count": null,
   "id": "132fe883-4758-4471-ba6b-3bd3dfe7e4b6",
   "metadata": {},
   "outputs": [],
   "source": [
    "# loop output excel\n",
    "dict_output={'DM_SAS':df_DM_SAS,\n",
    "             'DM_EXCEL':df_DM_EXCEL,\n",
    "             'DM_CSV':df_DM_CSV,}\n",
    "\n",
    "for k,v in dict_output.items():\n",
    "    v.to_excel('DM.xlsx',sheet_name=k)    \n",
    "    # v.to_excel(k+'.xlsx',sheet_name=k)"
   ]
  },
  {
   "cell_type": "markdown",
   "id": "5a24a20a-b6d1-4b39-8e0e-a59278c9bcd5",
   "metadata": {},
   "source": [
    "# xlsxwriter\n",
    "https://xlsxwriter.readthedocs.io/index.html"
   ]
  },
  {
   "cell_type": "code",
   "execution_count": null,
   "id": "ac8d2381-54d3-49f0-9ead-789a58c2de68",
   "metadata": {},
   "outputs": [],
   "source": []
  }
 ],
 "metadata": {
  "kernelspec": {
   "display_name": "Python 3 (ipykernel)",
   "language": "python",
   "name": "python3"
  },
  "language_info": {
   "codemirror_mode": {
    "name": "ipython",
    "version": 3
   },
   "file_extension": ".py",
   "mimetype": "text/x-python",
   "name": "python",
   "nbconvert_exporter": "python",
   "pygments_lexer": "ipython3",
   "version": "3.10.5"
  }
 },
 "nbformat": 4,
 "nbformat_minor": 5
}
