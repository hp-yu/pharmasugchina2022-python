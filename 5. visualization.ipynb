{
 "cells": [
  {
   "cell_type": "markdown",
   "id": "32e1f91f-1a53-483d-b411-1fc5c12e1d2b",
   "metadata": {
    "tags": []
   },
   "source": [
    "# Visualization"
   ]
  },
  {
   "cell_type": "markdown",
   "id": "cad6e1a8-415d-42bf-a0fc-15b814b3cb38",
   "metadata": {},
   "source": [
    "## 可视化解决方案\n",
    "* 商业可视化分析工具/平台\n",
    "    * Tableau\n",
    "    * TBICO Spotfire\n",
    "    * Microsoft Power BI\n",
    "    * SAS JMP\n",
    "\n",
    "* 开源的可视化工具\n",
    "    * R Shiny\n",
    "    * Python 数据可视化库"
   ]
  },
  {
   "cell_type": "markdown",
   "id": "91accb6c-8d7e-4765-8632-65e644a8d041",
   "metadata": {},
   "source": [
    "\n",
    "<img src=\"./picture/visualization_1.PNG\" width=680 height=240>"
   ]
  },
  {
   "cell_type": "markdown",
   "id": "6e942a3e-3878-4a9c-866d-80dfb489ca12",
   "metadata": {
    "tags": []
   },
   "source": [
    "* 上图摘自pycon 2017的相关演讲主题“The Python Visualization Landscape”\n",
    "\n",
    "* python可视化库可以大致分为几类：\n",
    "\n",
    "    * 基于matplotlib的可视化库（matplotlib, seaborn）\n",
    "\n",
    "    * 基于JS的可视化库 (bokeh, plotly)\n",
    "\n",
    "    * 基于上述两者或其他组合功能的库"
   ]
  },
  {
   "cell_type": "markdown",
   "id": "006b88e3-c911-49b0-bbf2-33ad313749b2",
   "metadata": {},
   "source": [
    "## Bokeh\n",
    "\n",
    "https://bokeh.org/"
   ]
  },
  {
   "cell_type": "markdown",
   "id": "2d95ef69-5892-4186-bd9d-41d0942e73bf",
   "metadata": {},
   "source": [
    "## Sample\n",
    "\n",
    "The FDA Reviewers’ Helper --- eDISH\n",
    "\n",
    "--- an analytical tool, software program\n",
    "\n",
    "(evaluation of Drug-Induced Serious Hepatotoxicity)"
   ]
  },
  {
   "cell_type": "markdown",
   "id": "8966c389-0392-4921-a5b3-b7f894114b54",
   "metadata": {},
   "source": [
    "<img src=\"./picture/visualization_2.PNG\" width=680 height=240>"
   ]
  },
  {
   "cell_type": "code",
   "execution_count": null,
   "id": "3a26a473-4782-4c51-a62e-78b59c6ee5a3",
   "metadata": {},
   "outputs": [],
   "source": []
  },
  {
   "cell_type": "code",
   "execution_count": null,
   "id": "78fbadb2-e486-44b0-8be4-6ae1522743e5",
   "metadata": {},
   "outputs": [],
   "source": []
  }
 ],
 "metadata": {
  "kernelspec": {
   "display_name": "Python 3 (ipykernel)",
   "language": "python",
   "name": "python3"
  },
  "language_info": {
   "codemirror_mode": {
    "name": "ipython",
    "version": 3
   },
   "file_extension": ".py",
   "mimetype": "text/x-python",
   "name": "python",
   "nbconvert_exporter": "python",
   "pygments_lexer": "ipython3",
   "version": "3.10.5"
  }
 },
 "nbformat": 4,
 "nbformat_minor": 5
}
