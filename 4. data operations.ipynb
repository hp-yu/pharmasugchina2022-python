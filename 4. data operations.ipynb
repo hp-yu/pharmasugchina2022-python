{
 "cells": [
  {
   "cell_type": "markdown",
   "id": "f6f0d53c-2d55-4a0e-923e-6e8dd6c3bb57",
   "metadata": {
    "tags": []
   },
   "source": [
    "# Data operations\n",
    "* Disk vs memory\n",
    "* Filtering\n",
    "* Selection of columns\n",
    "    * Keep/Drop/Rename\n",
    "    * Sorting by values   \n",
    "* Merging    \n",
    "* Operations on columns\n",
    "    * If/then logic \n",
    "    * map\n",
    "    * String processing\n",
    "    * Date functionality \n",
    "* Missing data    \n",
    "* GroupBy\n",
    "    * Aggregation\n",
    "    * Transformation"
   ]
  },
  {
   "cell_type": "markdown",
   "id": "06f2507a-4dbb-4729-94ba-bf5731ef92d5",
   "metadata": {},
   "source": [
    "## Disk vs memory\n",
    "\n",
    "pandas operates exclusively in memory, where a SAS data set exists on disk. This means that the size of data able to be loaded in pandas is limited by your machine’s memory, but also that the operations on that data may be faster.\n",
    "\n",
    "If out of core processing is needed, one possibility is the dask.dataframe library (currently in development) which provides a subset of pandas functionality for an on-disk DataFrame"
   ]
  },
  {
   "cell_type": "markdown",
   "id": "755de9d1-61d4-4b00-a32b-2885f633ab70",
   "metadata": {},
   "source": [
    "## Read source"
   ]
  },
  {
   "cell_type": "code",
   "execution_count": null,
   "id": "b848d3f6-702e-408a-a53d-178a530b6c9c",
   "metadata": {},
   "outputs": [],
   "source": [
    "import pandas as pd\n",
    "import numpy as np"
   ]
  },
  {
   "cell_type": "code",
   "execution_count": null,
   "id": "c9ca5f86-09ec-4d2f-ac90-405814fb0e79",
   "metadata": {},
   "outputs": [],
   "source": [
    "## Import data source\n",
    "dict_source={'AE':'ae.csv','DM':'dm.csv','DS':'ds.csv','EX':'ex.csv','LB':'lb.csv',}\n",
    "for k,v in dict_source.items():\n",
    "    globals()['df_'+k]=pd.read_csv('./data/data_operation_source/'+v)                              "
   ]
  },
  {
   "cell_type": "code",
   "execution_count": null,
   "id": "f1b9a041-8300-4ad8-8d93-d9e675d31c90",
   "metadata": {},
   "outputs": [],
   "source": [
    "#print\n",
    "df_LB.head()"
   ]
  },
  {
   "cell_type": "code",
   "execution_count": null,
   "id": "b0b0568f-e75c-457b-88d5-3823937254f8",
   "metadata": {},
   "outputs": [],
   "source": [
    "# dtypes\n",
    "df_LB.dtypes"
   ]
  },
  {
   "cell_type": "markdown",
   "id": "cded7855-adfc-4abd-8bc4-179810d1c36e",
   "metadata": {},
   "source": [
    "## Filtering"
   ]
  },
  {
   "cell_type": "raw",
   "id": "973a8340-13c1-4d09-a42c-251b8c1b9421",
   "metadata": {},
   "source": [
    "# sas code \n",
    "data BILI;\n",
    "    set WORK.LB;\n",
    "    if LBTESTCD = BILI;\n",
    "run;\n",
    "\n",
    "data BILI;\n",
    "    set BILI;\n",
    "    where LBORRES > 1;\n",
    "    /* equivalent in this case - where happens before the\n",
    "       DATA step begins and can also be used in PROC statements */\n",
    "run;"
   ]
  },
  {
   "cell_type": "code",
   "execution_count": null,
   "id": "08c5c07f-b54b-47d4-b95c-d5529fff2410",
   "metadata": {},
   "outputs": [],
   "source": [
    "# Filtering\n",
    "df_BILI=df_LB[df_LB['LBTESTCD']=='BILI']\n",
    "df_BILI=df_BILI[df_BILI['LBORRES']>1]\n",
    "df_BILI"
   ]
  },
  {
   "cell_type": "markdown",
   "id": "f86b3682-6858-4cbd-91d6-bdaf9a8b0093",
   "metadata": {},
   "source": [
    "## Selection of columns\n",
    "### Keep"
   ]
  },
  {
   "cell_type": "raw",
   "id": "7f4d2cf6-3d2e-446f-b6e1-c7c4eb7c7ec0",
   "metadata": {},
   "source": [
    "# sas code \n",
    "data BILI;\n",
    "    set BILI;\n",
    "    keep USUBJID LBTESTCD LBTEST LBORRES LBORNRLO LBORNRHI;\n",
    "run;"
   ]
  },
  {
   "cell_type": "code",
   "execution_count": null,
   "id": "b644666c-ede0-4b8b-9fc9-2e025a82bf0e",
   "metadata": {},
   "outputs": [],
   "source": [
    "# keep USUBJID LBTESTCD LBTEST LBORRES LBORNRLO LBORNRHI\n",
    "df_BILI=df_BILI[['USUBJID','LBTESTCD','LBTEST','LBORRES','LBORNRLO','LBORNRHI']]\n",
    "df_BILI"
   ]
  },
  {
   "cell_type": "markdown",
   "id": "74f79b3a-4665-453f-928a-280463b1c955",
   "metadata": {},
   "source": [
    "### Drop"
   ]
  },
  {
   "cell_type": "raw",
   "id": "fd2ab0b0-7158-4c89-9a93-134b604e6011",
   "metadata": {},
   "source": [
    "# sas code \n",
    "data BILI;\n",
    "    set BILI;\n",
    "    drop LBTEST;\n",
    "run;"
   ]
  },
  {
   "cell_type": "code",
   "execution_count": null,
   "id": "af2cce66-2c2c-4f9f-ae75-34eb09637e13",
   "metadata": {},
   "outputs": [],
   "source": [
    "# drop LBTEST\n",
    "df_BILI_drop=df_BILI.drop(columns=['LBTEST'])\n",
    "df_BILI_drop"
   ]
  },
  {
   "cell_type": "markdown",
   "id": "95cb368d-2be3-4f2d-a579-d677fac7fed9",
   "metadata": {},
   "source": [
    "### Rename"
   ]
  },
  {
   "cell_type": "raw",
   "id": "5d2d0b64-8932-49b7-a58f-72cd364e84af",
   "metadata": {},
   "source": [
    "# rename\n",
    "data BILI;\n",
    "    set BILI;\n",
    "    rename LBORRES=BILI;\n",
    "run;"
   ]
  },
  {
   "cell_type": "code",
   "execution_count": null,
   "id": "ddd59ad7-a638-4ecd-90a2-25c09e8c45fc",
   "metadata": {},
   "outputs": [],
   "source": [
    "# rename 'LBORRES':'BILI'\n",
    "df_BILI_rename=df_BILI_drop.rename(columns={'LBORRES':'BILI'})\n",
    "df_BILI_rename"
   ]
  },
  {
   "cell_type": "markdown",
   "id": "27ebec96-9c92-49a9-86bd-4d4b55e33dc5",
   "metadata": {},
   "source": [
    "### Sorting by values"
   ]
  },
  {
   "cell_type": "raw",
   "id": "7190a1bc-faa0-4950-bcc0-910eab49aa26",
   "metadata": {},
   "source": [
    "# sas code \n",
    "proc sort data=BILI;\n",
    "    by USUBJID BILI;\n",
    "run;"
   ]
  },
  {
   "cell_type": "code",
   "execution_count": null,
   "id": "90bae66a-a807-4de9-ab62-ebaadb45d6fe",
   "metadata": {},
   "outputs": [],
   "source": [
    "# Sorting by USUBJID BILI\n",
    "df_BILI_sort=df_BILI_rename.sort_values(['USUBJID','BILI'])\n",
    "df_BILI_sort.head()"
   ]
  },
  {
   "cell_type": "markdown",
   "id": "0a5b0428-1552-4fc6-9258-108689b73bcb",
   "metadata": {},
   "source": [
    "## Merging"
   ]
  },
  {
   "cell_type": "raw",
   "id": "9fa68904-16be-4a1b-b9fa-49ca14fc0cfe",
   "metadata": {},
   "source": [
    "# sas code \n",
    "proc sort data=BILI;\n",
    "    by USUBJID;\n",
    "run;\n",
    "\n",
    "proc sort data=DM;\n",
    "    by USUBJID;\n",
    "run;\n",
    "\n",
    "data left_join inner_join right_join outer_join;\n",
    "    merge BILI(in=a) DM(in=b);\n",
    "    if a and b then output inner_join;\n",
    "    if a then output left_join;\n",
    "    if b then output right_join;\n",
    "    if a or b then output outer_join;\n",
    "run;"
   ]
  },
  {
   "cell_type": "code",
   "execution_count": null,
   "id": "66d9b582-5de0-4c2e-9aab-8d5f02d1959a",
   "metadata": {},
   "outputs": [],
   "source": [
    "# left join SEX,BRTHDTC    \n",
    "df_BILI_DM=pd.merge(df_BILI_sort,\n",
    "                    df_DM[['USUBJID','SEX','RACE','BRTHDTC']],\n",
    "                    how='left',\n",
    "                    on=['USUBJID'])\n",
    "df_BILI_DM"
   ]
  },
  {
   "cell_type": "markdown",
   "id": "50a37c56-6533-425d-bdd6-00b18fa7a6bf",
   "metadata": {},
   "source": [
    "## Operations on columns"
   ]
  },
  {
   "cell_type": "markdown",
   "id": "da0abcc0-1818-4898-930a-b11f247cbc9b",
   "metadata": {},
   "source": [
    "### If/then logic"
   ]
  },
  {
   "cell_type": "raw",
   "id": "f2cfd7b5-f039-4432-abed-332a0d7d248b",
   "metadata": {},
   "source": [
    "# sas code \n",
    "data tips;\n",
    "    set tips;\n",
    "    format flag $4.;\n",
    "\n",
    "    if BILI < LBORNRLO then flag = 'low';\n",
    "    else if BILI > LBORNRHI then flag = 'high';\n",
    "run;"
   ]
  },
  {
   "cell_type": "code",
   "execution_count": null,
   "id": "1498c020-3fdf-4904-a66a-287ea41749fc",
   "metadata": {},
   "outputs": [],
   "source": [
    "# df_BILI_flag\n",
    "df_BILI_flag=df_BILI_DM.copy()\n",
    "for index, row in df_BILI_flag.iterrows():\n",
    "    if row['BILI']>1.5:\n",
    "        df_BILI_flag.at[index,'flag']='high'\n",
    "    elif row['BILI']<1.2:\n",
    "        df_BILI_flag.at[index,'flag']='low' \n",
    "    else:\n",
    "        df_BILI_flag.at[index,'flag']='normal'\n",
    "df_BILI_flag[df_BILI_flag['flag']=='low'].head()"
   ]
  },
  {
   "cell_type": "markdown",
   "id": "52a32cbf-fa95-4c52-9a88-2a617821e295",
   "metadata": {},
   "source": [
    "### map"
   ]
  },
  {
   "cell_type": "code",
   "execution_count": null,
   "id": "a8d5a063-9921-4444-970c-b4958e27f1bf",
   "metadata": {},
   "outputs": [],
   "source": [
    "# drop_duplicates['LBTEST']\n",
    "df_LB.drop_duplicates(['LBTEST'])['LBTESTCD']"
   ]
  },
  {
   "cell_type": "code",
   "execution_count": null,
   "id": "0d428a41-c2ab-4d9b-a40a-f080dfba6194",
   "metadata": {},
   "outputs": [],
   "source": [
    "# dict_map\n",
    "dict_map=dict(zip(df_LB.drop_duplicates(['LBTEST'])['LBTESTCD'],\n",
    "                  df_LB.drop_duplicates(['LBTEST'])['LBTEST']))\n",
    "dict_map"
   ]
  },
  {
   "cell_type": "code",
   "execution_count": null,
   "id": "7d97b102-985f-4d96-9c1b-4f51f442d3a2",
   "metadata": {},
   "outputs": [],
   "source": [
    "# map LBTEST_DECODE\n",
    "df_LBTEST=df_LB.copy()\n",
    "df_LBTEST=df_LBTEST[['USUBJID','LBTESTCD']]\n",
    "df_LBTEST['LBTEST_DECODE']=df_LBTEST['LBTESTCD'].map(dict_map)\n",
    "df_LBTEST"
   ]
  },
  {
   "cell_type": "markdown",
   "id": "a5956d72-cc57-41ca-bde2-80afe23e4f13",
   "metadata": {},
   "source": [
    "### String processing"
   ]
  },
  {
   "cell_type": "code",
   "execution_count": null,
   "id": "7ad05c3f-1886-449b-81b6-a573e38a1cbc",
   "metadata": {},
   "outputs": [],
   "source": [
    "# change the string column in df_LBTEST\n",
    "# df_str_proc: \n",
    "df_str_proc=df_LBTEST.copy()\n",
    "# string combine: USUBJID+LBTEST_DECODE\n",
    "df_str_proc['col1']=df_str_proc['USUBJID']+'+'+df_str_proc['LBTEST_DECODE']\n",
    "# upcase\n",
    "df_str_proc['col2']=df_str_proc['col1'].str.upper()\n",
    "# Extracting nth word\n",
    "df_str_proc['col3']=df_str_proc['col2'].str.split(\"+\", expand=True)[0]\n",
    "# Extracting substring by position\n",
    "df_str_proc['col4']=df_str_proc['col3'].str[0:1]\n",
    "df_str_proc"
   ]
  },
  {
   "cell_type": "markdown",
   "id": "1b4d0001-efe4-4795-b0fc-10a0e4bd31a8",
   "metadata": {},
   "source": [
    "### Date functionality"
   ]
  },
  {
   "cell_type": "code",
   "execution_count": null,
   "id": "f6c60183-01c5-49e5-be0e-e5a361dd01d9",
   "metadata": {},
   "outputs": [],
   "source": [
    "# change the date column in df_BILI_DM\n",
    "# df_date_func\n",
    "df_date_func=df_BILI_DM.copy()\n",
    "# BRTHDTC_dt pd.to_datetime()\n",
    "df_date_func['BRTHDTC_dt']=pd.to_datetime(df_date_func['BRTHDTC'], errors='coerce')\n",
    "# today\n",
    "df_date_func['today']=pd.Timestamp(\"2022-08-18\")\n",
    "# diff/dt.days\n",
    "df_date_func['diff']=df_date_func['today']-df_date_func['BRTHDTC_dt']\n",
    "df_date_func['diff']=df_date_func['diff'].dt.days\n",
    "# today_Y/today_M   .dt.year/.dt.month\n",
    "df_date_func['today_Y']=df_date_func['today'].dt.year\n",
    "df_date_func['today_M']=df_date_func['today'].dt.month\n",
    "\n",
    "df_date_func"
   ]
  },
  {
   "cell_type": "markdown",
   "id": "1b6332da-575e-460c-b40a-5acc498038c0",
   "metadata": {},
   "source": [
    "## Missing data\n",
    "Both pandas and SAS have a representation for missing data.\n",
    "\n",
    "pandas represents missing data with the special float value NaN (not a number). Many of the semantics are the same; "
   ]
  },
  {
   "cell_type": "markdown",
   "id": "3b52e76d-f0e2-4e5c-837c-8d4da3c404e1",
   "metadata": {},
   "source": [
    "## GroupBy"
   ]
  },
  {
   "cell_type": "markdown",
   "id": "840bbd6f-d1f9-4d86-9216-26573e6d1282",
   "metadata": {},
   "source": [
    "### Aggregation"
   ]
  },
  {
   "cell_type": "raw",
   "id": "ee957e04-df14-4b5c-b68d-0ad37747afc2",
   "metadata": {},
   "source": [
    "# sas code\n",
    "proc summary data=BILI_flag nway;\n",
    "    class sex ;\n",
    "    var BILI;\n",
    "    output out=BILI_summed sum=;\n",
    "run;"
   ]
  },
  {
   "cell_type": "code",
   "execution_count": null,
   "id": "8fa7ce3d-c0fe-4702-b7b3-2ebb706ae39f",
   "metadata": {},
   "outputs": [],
   "source": [
    "# grp_BILI groupby(['SEX','RACE'])['BILI'].sum()\n",
    "grp_BILI=df_BILI_flag.groupby(['SEX','RACE'])['BILI'].sum()\n",
    "grp_BILI"
   ]
  },
  {
   "cell_type": "markdown",
   "id": "656cb306-1ad8-4df6-84c4-1243caf02676",
   "metadata": {},
   "source": [
    "### Transformation"
   ]
  },
  {
   "cell_type": "code",
   "execution_count": null,
   "id": "d05a7498-760a-4200-beaf-9ef703ae6cc5",
   "metadata": {},
   "outputs": [],
   "source": [
    "# melt\n",
    "df_DM_melt=pd.melt(df_DM,\n",
    "                   id_vars=['USUBJID'], \n",
    "                   value_vars=['BRTHDTC','AGE','SEX','RACE'],\n",
    "                   var_name='col_cat', \n",
    "                   value_name='col_value')   \n",
    "df_DM_melt.sort_values('USUBJID').head(10)"
   ]
  },
  {
   "cell_type": "code",
   "execution_count": null,
   "id": "157a54a7-748a-4602-8f93-c33fe4c0b3b8",
   "metadata": {},
   "outputs": [],
   "source": []
  },
  {
   "cell_type": "code",
   "execution_count": null,
   "id": "c1d852ad-d2b2-4227-b909-4ec6431a15bf",
   "metadata": {},
   "outputs": [],
   "source": []
  }
 ],
 "metadata": {
  "kernelspec": {
   "display_name": "Python 3 (ipykernel)",
   "language": "python",
   "name": "python3"
  },
  "language_info": {
   "codemirror_mode": {
    "name": "ipython",
    "version": 3
   },
   "file_extension": ".py",
   "mimetype": "text/x-python",
   "name": "python",
   "nbconvert_exporter": "python",
   "pygments_lexer": "ipython3",
   "version": "3.10.5"
  }
 },
 "nbformat": 4,
 "nbformat_minor": 5
}
