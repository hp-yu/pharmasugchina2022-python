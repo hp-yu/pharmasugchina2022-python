{
 "cells": [
  {
   "cell_type": "markdown",
   "id": "6e82626e-bcbf-4be1-ad27-ed1a9575de25",
   "metadata": {},
   "source": [
    "# Bokeh"
   ]
  },
  {
   "cell_type": "markdown",
   "id": "e713c2d0-dedd-49f9-857d-e5d2ce48f96a",
   "metadata": {},
   "source": [
    "## ColumnDataSource\n",
    "\n",
    "接受三种数据传入形式，分别为：\n",
    "\n",
    "1. Dict<p>\n",
    "data = {'x': [1,2,3,4], 'y': np.ndarray([10.0, 20.0, 30.0, 40.0])}<p>\n",
    "source = ColumnDataSource(data)<p>\n",
    "2. DataFrame Objec<p>\n",
    "source = ColumnDataSource(df)<p>\n",
    "3. GroupBy Object<p>\n",
    "group = df.groupby(('colA', 'ColB'))<p>\n",
    "source = ColumnDataSource(group)    \n",
    "接着使用ColumnDataSource对返回数据进行处理生成source，在绘制图形的过程中，将source作为参数传入，此时通过列名便能获取到对应的数据。"
   ]
  },
  {
   "cell_type": "markdown",
   "id": "76c44472-5c27-46a6-988e-d1510d176da7",
   "metadata": {},
   "source": [
    "## Bokeh中绘图的一般步骤\n",
    "* 加载 bokeh 库，声明在 notebook 或 html 文件中显示或输出绘制的图表\n",
    "\n",
    "* 绘制图表框架 figure()\n",
    "\n",
    "* 在 figure 上绘制具体的图形，比如 circle，line，bar等\n",
    "\n",
    "* 显示图片，show()"
   ]
  },
  {
   "cell_type": "code",
   "execution_count": null,
   "id": "c975ed52-5041-4c89-a06d-950227348a9d",
   "metadata": {},
   "outputs": [],
   "source": [
    "# 加载\n",
    "import pandas as pd\n",
    "import numpy as np\n",
    "# 导入notebook绘图模块\n",
    "\n",
    "from bokeh.plotting import figure\n",
    "from bokeh.io import show, output_notebook\n",
    "from bokeh.models import CustomJS, ColumnDataSource,WidgetBox,HoverTool,Button, RadioButtonGroup, Select, Slider,CheckboxGroup, CustomJSFilter, CDSView, IndexFilter\n",
    "from bokeh.core.properties import value\n",
    "from bokeh.models.annotations import Span\n",
    "from bokeh.layouts import column,gridplot,row\n",
    "\n",
    "output_notebook()"
   ]
  },
  {
   "cell_type": "code",
   "execution_count": null,
   "id": "b2b65654-273f-4603-937f-c3e407c2a7e7",
   "metadata": {},
   "outputs": [],
   "source": [
    "## Import data source'\n",
    "dict_source={'LB':'lb.csv'}\n",
    "for k,v in dict_source.items():\n",
    "    globals()['df_'+k]=pd.read_csv('./data/bokeh/'+v)  "
   ]
  },
  {
   "cell_type": "code",
   "execution_count": null,
   "id": "58614bc2-e339-4422-afd8-e296d371c267",
   "metadata": {
    "tags": []
   },
   "outputs": [],
   "source": [
    "# make_dataset\n",
    "lst_AnalyteName=['ALT','AST','BILI']\n",
    "dict_color={'ALT':'red','AST':'olive','BILI':'blue'}\n",
    "df_source= df_LB[df_LB['Subject']=='UAT012015']"
   ]
  },
  {
   "cell_type": "code",
   "execution_count": null,
   "id": "6d2cd1ae-b4bd-440e-b6c9-c893efc98c55",
   "metadata": {
    "tags": []
   },
   "outputs": [],
   "source": [
    "# figure\n",
    "p = figure(plot_width=800, plot_height=300,toolbar_location=\"above\",\n",
    "           x_range=(0,50),\n",
    "           y_range=(0,60),\n",
    "           title=\"Patient XXXXX\"\n",
    "           )  "
   ]
  },
  {
   "cell_type": "code",
   "execution_count": null,
   "id": "1720f7f0-4d86-4c46-aaea-a213333d7e41",
   "metadata": {
    "tags": []
   },
   "outputs": [],
   "source": [
    "# figure style\n",
    "p.xaxis.axis_label = \"days_from_baseline\"\n",
    "p.yaxis.axis_label = \"NumericValue\" "
   ]
  },
  {
   "cell_type": "code",
   "execution_count": null,
   "id": "a3b43f16-6c6c-48c0-8c2a-3b9c818de112",
   "metadata": {
    "tags": []
   },
   "outputs": [],
   "source": [
    "p.line(x=df_source[df_source['AnalyteName']=='ALT']['days_from_baseline'],\n",
    "       y=df_source[df_source['AnalyteName']=='ALT']['NumericValue'],\n",
    "       line_width=2,\n",
    "       color=dict_color['ALT'])"
   ]
  },
  {
   "cell_type": "code",
   "execution_count": null,
   "id": "117f2100-de50-4b43-8cc2-399d4356459a",
   "metadata": {
    "tags": []
   },
   "outputs": [],
   "source": [
    "for test in lst_AnalyteName:\n",
    "    p.line(df_source[df_source['AnalyteName']==test]['days_from_baseline'],\n",
    "           df_source[df_source['AnalyteName']==test]['NumericValue'],\n",
    "           x='days_from_baseline',\n",
    "           y='NumericValue',\n",
    "           line_width=2,\n",
    "           color=dict_color[test], \n",
    "           legend_label = test\n",
    "#             alpha=0.8,\n",
    "           )"
   ]
  },
  {
   "cell_type": "code",
   "execution_count": null,
   "id": "187ce61d-7ffe-4ed1-965d-342e3602f9b0",
   "metadata": {},
   "outputs": [],
   "source": [
    "p.legend.location = \"top_left\"\n",
    "p.legend.click_policy=\"hide\""
   ]
  },
  {
   "cell_type": "code",
   "execution_count": null,
   "id": "9ba28241-ef92-4e45-9b22-c18137496f5f",
   "metadata": {
    "tags": []
   },
   "outputs": [],
   "source": [
    "show(p)"
   ]
  },
  {
   "cell_type": "markdown",
   "id": "ce6adc5e-b796-48c2-8024-21b424a2d51f",
   "metadata": {},
   "source": [
    "## bokeh的交互·主要有两种类型\n",
    "一种是被动式（passive）的Inspector，一种是主动式（active）的Widgets。以下简单列举本次构建的APP涉及到的交互工具，并做简单说明介绍："
   ]
  },
  {
   "cell_type": "markdown",
   "id": "3763595c-c8fa-4be9-9bc2-3905a98ffd76",
   "metadata": {},
   "source": [
    "### 被动式（passive）的Inspector\n",
    "HoverTool: 默认情况下，悬浮工具将生成“表格”类工具提示，其中每行包含标签及其关联信息。每个标签和对应信息构成一个元组，所有标签和信息构建成一个元组的列表作为参数进行传递。\n",
    "\n",
    "检查器是基于当前光标位置对图像进行注释或报告图像信息的被动工具。"
   ]
  },
  {
   "cell_type": "code",
   "execution_count": null,
   "id": "5705ffb0-e85e-423d-9357-10d4ef603499",
   "metadata": {},
   "outputs": [],
   "source": [
    "def UnstackToFatDf(dfn,lst_key,lst_var,lv):\n",
    "    df_temp=dfn.copy()\n",
    "    df_temp=df_temp[lst_key+lst_var]\n",
    "    df_temp=df_temp.set_index(lst_key)\n",
    "    df_temp_unstack=df_temp.unstack(level=lv)\n",
    "    df_temp_unstack.columns=df_temp_unstack.columns.droplevel()\n",
    "    df_temp_unstack=df_temp_unstack.reset_index()\n",
    "    return df_temp_unstack"
   ]
  },
  {
   "cell_type": "code",
   "execution_count": null,
   "id": "5c325c62-bb43-4f30-b0bf-dd8d9e6ab465",
   "metadata": {},
   "outputs": [],
   "source": [
    "df_eDISH=df_LB[df_LB['AnalyteName'].isin(['AST','ALT','BILI'])]\n",
    "df_eDISH['VALUE/ULN']=df_eDISH['NumericValue']/df_eDISH['LabHigh']\n",
    "df_eDISH_Peak=df_eDISH.groupby(['Subject','AnalyteName'])['VALUE/ULN'].max().reset_index()\n",
    "df_eDISH_Peak_Unstack=UnstackToFatDf(df_eDISH_Peak,['Subject','AnalyteName'],['VALUE/ULN'],1)\n",
    "df_eDISH_Peak_Unstack=df_eDISH_Peak_Unstack.rename(columns={'AST':'Peak_AST','ALT':'Peak_ALT','BILI':'Peak_BILI'})\n",
    "# df_eDISH_Peak_Unstack.fillna(0,inplace=True)\n",
    "# df_eDISH_Peak_Unstack"
   ]
  },
  {
   "cell_type": "code",
   "execution_count": null,
   "id": "adbaa7f9-c1a8-456b-8e7e-46d8b6927a5a",
   "metadata": {},
   "outputs": [],
   "source": [
    "# df_eDISH_Peak_Unstack.index.name = 'index'\n",
    "source = ColumnDataSource(df_eDISH_Peak_Unstack)"
   ]
  },
  {
   "cell_type": "code",
   "execution_count": null,
   "id": "80f918ab-9719-462f-beb1-266ef55c1d1c",
   "metadata": {},
   "outputs": [],
   "source": [
    "hover = HoverTool(tooltips=[(\"Peak_AST\", \"@Peak_AST\"),\n",
    "                            (\"Peak_BILI\", \"@Peak_BILI\"),\n",
    "                            (\"Subject\",\"@Subject\")\n",
    "                        ])"
   ]
  },
  {
   "cell_type": "code",
   "execution_count": null,
   "id": "2b56e9db-bbbe-4e68-981b-6207e9b9742b",
   "metadata": {},
   "outputs": [],
   "source": [
    "p1 = figure(plot_width=800, plot_height=300,toolbar_location=\"above\",\n",
    "            x_range=(0,2.5),\n",
    "            y_range=(0,4.5),\n",
    "            tools=[hover,'box_select,reset,wheel_zoom,pan,crosshair'],\n",
    "            title=\"eDISH\"\n",
    "           )   # 注意这里书写方式;  hover它的作用是只是会显示出点的每个标签;crossshair是显示十字叉"
   ]
  },
  {
   "cell_type": "code",
   "execution_count": null,
   "id": "63090202-f6b4-491e-9456-f182f7d71228",
   "metadata": {},
   "outputs": [],
   "source": [
    "# 如果不设置标签，就只写hover，例如 tools='hover,box_select,reset,wheel_zoom,pan,crosshair'\n",
    "p1.circle(x = 'Peak_AST',\n",
    "          y = 'Peak_BILI',\n",
    "          source = source,\n",
    "          size = 7,\n",
    "#           alpha = 0.3        \n",
    "         )"
   ]
  },
  {
   "cell_type": "code",
   "execution_count": null,
   "id": "c5d69a3e-0c0c-4f09-8360-af7238c8f16d",
   "metadata": {},
   "outputs": [],
   "source": [
    "p1.background_fill_color = \"beige\"    # 绘图空间背景颜色\n",
    "p1.background_fill_alpha = 0.5        # 绘图空间背景透明度\n",
    "\n",
    "p1.border_fill_color = \"whitesmoke\"    # 外边界背景颜色\n",
    "p1.border_fill_alpha = 0.5             #透明度\n",
    "p1.min_border_left = 80                # 外边界背景 - 左边宽度\n",
    "p1.min_border_right = 80               # 外边界背景 - 右边宽度\n",
    "p1.min_border_top = 10                 # 外边界背景 - 上宽度\n",
    "p1.min_border_bottom = 10 \n",
    "\n",
    "p1.xaxis.axis_label = \"Peak_AST\"\n",
    "p1.xaxis.axis_line_width = 0.5\n",
    "# p1.xaxis.bounds = (0, 3)\n",
    "\n",
    "p1.yaxis.axis_label = \"Peak_BILI\"\n",
    "# p1.yaxis.major_label_text_color = \"orange\"\n",
    "# p1.yaxis.major_label_orientation = \"vertical\"\n",
    "\n",
    "# p1.axis.minor_tick_in = 20     # 刻度往绘图区域内延伸长度；设置成负的就是往外边延伸了。\n",
    "# p1.axis.minor_tick_out = 3   # 刻度往绘图区域外延伸长度"
   ]
  },
  {
   "cell_type": "code",
   "execution_count": null,
   "id": "8478399a-6cc9-4eec-b423-bfc444983bce",
   "metadata": {},
   "outputs": [],
   "source": [
    "upper1 = Span(location=3,           # 设置位置，对应坐标值\n",
    "             dimension='width',    # 设置方向，width为横向，height为纵向  \n",
    "             line_color='olive', line_width=2,   # 设置线颜色、线宽\n",
    "             line_dash = [8,4]\n",
    "            )\n",
    "upper2 = Span(location=2,dimension='height',line_color='firebrick', line_width=2,line_dash = [8,4])\n",
    "p1.add_layout(upper1)\n",
    "p1.add_layout(upper2)"
   ]
  },
  {
   "cell_type": "code",
   "execution_count": null,
   "id": "4f428047-6648-442a-b3ae-929ca439eee2",
   "metadata": {},
   "outputs": [],
   "source": [
    "show(p1)"
   ]
  },
  {
   "cell_type": "markdown",
   "id": "020dcd2e-dfc6-4196-a045-ed771c3eb7e1",
   "metadata": {},
   "source": [
    "### 主动式（active）的Widgets\n",
    "\n",
    "\n",
    "窗口小部件是可以添加到bokeh应用程序的交互式控件，以便为可视化提供前端用户界面。窗口小部件可以驱动程序进行新的运算，更新绘图，甚至连接到其他程序。\n",
    "\n",
    "CheckBoxGroup: 标准的复选框，支持多个指标同时选定\n",
    "\n",
    "DatePicker: 更新日期\n",
    "\n",
    "Button: 按钮，点击触发运算\n",
    "\n",
    "Select: 单个选择工具，选项之间互斥"
   ]
  },
  {
   "cell_type": "code",
   "execution_count": null,
   "id": "6ec4b0cf-81ba-4a53-914f-be55273712a8",
   "metadata": {},
   "outputs": [],
   "source": [
    "# create some widgets\n",
    "slider = Slider(start=0, end=10, value=1, step=.1, title=\"Slider\")\n",
    "button_group = RadioButtonGroup(labels=[\"Option 1\", \"Option 2\", \"Option 3\"], active=0)\n",
    "select = Select(title=\"Option:\", value=\"foo\", options=[\"foo\", \"bar\", \"baz\", \"quux\"])\n",
    "button_1 = Button(label=\"Button 1\")\n",
    "button_2 = Button(label=\"Button 2\")\n",
    " \n",
    "# put the results in a row\n",
    "show(column(button_1, slider, button_group, select, button_2, width=300))\n",
    "# show(row(button_1, slider, button_group, select, button_2))\n",
    "# show(gridplot([[button_1, slider], [button_group, select],[button_2,]]))"
   ]
  },
  {
   "cell_type": "code",
   "execution_count": null,
   "id": "c7b12fd4-0546-4527-940c-6248b01f3220",
   "metadata": {},
   "outputs": [],
   "source": []
  },
  {
   "cell_type": "code",
   "execution_count": null,
   "id": "a3b54599-c93a-4394-9552-1eb7f77bc7fe",
   "metadata": {},
   "outputs": [],
   "source": []
  }
 ],
 "metadata": {
  "kernelspec": {
   "display_name": "Python 3 (ipykernel)",
   "language": "python",
   "name": "python3"
  },
  "language_info": {
   "codemirror_mode": {
    "name": "ipython",
    "version": 3
   },
   "file_extension": ".py",
   "mimetype": "text/x-python",
   "name": "python",
   "nbconvert_exporter": "python",
   "pygments_lexer": "ipython3",
   "version": "3.10.5"
  }
 },
 "nbformat": 4,
 "nbformat_minor": 5
}
