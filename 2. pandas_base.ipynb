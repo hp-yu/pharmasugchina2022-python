{
 "cells": [
  {
   "cell_type": "markdown",
   "id": "f6f0d53c-2d55-4a0e-923e-6e8dd6c3bb57",
   "metadata": {},
   "source": [
    "# Pandas\n",
    "* Pandas是使用Python语言开发的用于数据处理和数据分析的第三方库\n",
    "* Pandas的命名和熊猫无关，全称是Python Data Analysis Library"
   ]
  },
  {
   "cell_type": "code",
   "execution_count": null,
   "id": "968873c6-188a-4927-9281-638298ccaf84",
   "metadata": {},
   "outputs": [],
   "source": [
    "import numpy as np\n",
    "import pandas as pd"
   ]
  },
  {
   "cell_type": "markdown",
   "id": "801908d3-bd7a-440b-b1d1-64850e8eaed5",
   "metadata": {},
   "source": [
    "## Pandas的数据结构\n",
    "* Pandas提供Series和DataFrame作为数组数据的储存框架，数据进入这2种框架后，我们就可以利用它们提供的强大处理方法进行处理"
   ]
  },
  {
   "cell_type": "markdown",
   "id": "4b104e43-3aa9-4ec7-bfd2-431a7c5b140e",
   "metadata": {},
   "source": [
    "1. Series\n",
    "\n",
    "Series是一个带有标签的一维数组.\n",
    "\n",
    "Series is a one-dimensional labeled array capable of holding any data type (integers, strings, floating point numbers, Python objects, etc.). The axis labels are collectively referred to as the index. The basic method to create a Series is to call:\n",
    "\n",
    "s = pd.Series(data, index=index)"
   ]
  },
  {
   "cell_type": "code",
   "execution_count": null,
   "id": "5bc54d87-3378-4fdc-b316-5580c973a4f8",
   "metadata": {},
   "outputs": [],
   "source": [
    "#s input from a list\n",
    "s=pd.Series([1,2,3,4,5])\n",
    "# s=pd.Series([1,2,3,4,5],index=['a','b','c','d','e'])\n",
    "s"
   ]
  },
  {
   "cell_type": "code",
   "execution_count": null,
   "id": "91c39526-79eb-4c67-a594-6708bcc5a654",
   "metadata": {},
   "outputs": [],
   "source": [
    "#s1 input from a dict\n",
    "d={'b':1,'a':0,'c':2}\n",
    "s1=pd.Series(d)\n",
    "s1"
   ]
  },
  {
   "cell_type": "markdown",
   "id": "b5426d62-2392-4b04-b894-bba82e1ab02c",
   "metadata": {},
   "source": [
    "2. DataFrame\n",
    "\n",
    "DataFrame意为数据框，是Pandas定义的一个二维数据结构\n",
    "\n",
    "DataFrame is a 2-dimensional labeled data structure with columns of potentially different types. You can think of it like a spreadsheet or SQL table, or a dict of Series objects. It is generally the most commonly used pandas object. Like Series, DataFrame accepts many different kinds of input:\n",
    "\n",
    "* Dict of 1D ndarrays, lists, dicts, or Series\n",
    "\n",
    "* 2-D numpy.ndarray\n",
    "\n",
    "* Structured or record ndarray\n",
    "\n",
    "* A Series\n",
    "\n",
    "* Another DataFrame\n",
    "\n",
    "<img src=\"./picture/dataframe_1.PNG\" width=320 height=240>"
   ]
  },
  {
   "cell_type": "code",
   "execution_count": null,
   "id": "4c126759-dce0-4123-9d62-3e079ea0fd6e",
   "metadata": {},
   "outputs": [],
   "source": [
    "# df from dict of ndarrays / lists\n",
    "d={\"subject\": ['10011001','10011002','10011003','10011004'],\"age\":[45,35,25,15],\"sex\":['F','M','M','F']}\n",
    "df = pd.DataFrame(d)\n",
    "# df = pd.DataFrame(d,index=[\"a\",'b','c','c'])\n",
    "df"
   ]
  },
  {
   "cell_type": "markdown",
   "id": "10c2b1a3-d9d4-422b-b7c9-ec96eb8edabb",
   "metadata": {},
   "source": [
    "## Each column in a DataFrame is a Series"
   ]
  },
  {
   "cell_type": "code",
   "execution_count": null,
   "id": "0f9fee03-b33c-431d-aca5-5c1c41dd6da2",
   "metadata": {},
   "outputs": [],
   "source": [
    "# df['subject']\n",
    "df['subject']"
   ]
  },
  {
   "cell_type": "code",
   "execution_count": null,
   "id": "342fa718-56bd-4578-9eea-16cd7daecdbf",
   "metadata": {},
   "outputs": [],
   "source": [
    "#type\n",
    "type(df['subject'])"
   ]
  }
 ],
 "metadata": {
  "kernelspec": {
   "display_name": "Python 3 (ipykernel)",
   "language": "python",
   "name": "python3"
  },
  "language_info": {
   "codemirror_mode": {
    "name": "ipython",
    "version": 3
   },
   "file_extension": ".py",
   "mimetype": "text/x-python",
   "name": "python",
   "nbconvert_exporter": "python",
   "pygments_lexer": "ipython3",
   "version": "3.10.5"
  }
 },
 "nbformat": 4,
 "nbformat_minor": 5
}
