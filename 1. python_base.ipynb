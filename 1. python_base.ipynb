{
 "cells": [
  {
   "cell_type": "markdown",
   "id": "f6f0d53c-2d55-4a0e-923e-6e8dd6c3bb57",
   "metadata": {},
   "source": [
    "# Python\n",
    "* 面向对象的编程\n",
    "* 语法贴近人类字然语言\n",
    "* 应用范围非常广泛（Web开发，计算与数据分析，人工智能，游戏开发...）\n",
    "* 开源（第三方库，社区....）\n",
    "\n"
   ]
  },
  {
   "cell_type": "markdown",
   "id": "06f2507a-4dbb-4729-94ba-bf5731ef92d5",
   "metadata": {},
   "source": [
    "## Python的数据结构\n",
    "* 一些基础的数据结构\n",
    "1. Number(数字)\n",
    "2. String(字符串)"
   ]
  },
  {
   "cell_type": "code",
   "execution_count": null,
   "id": "b848d3f6-702e-408a-a53d-178a530b6c9c",
   "metadata": {},
   "outputs": [],
   "source": [
    "a='Hellow World!'\n",
    "b=100\n",
    "c=0.1\n",
    "print(a)\n",
    "print(b)\n",
    "print(c)\n",
    "type(b)"
   ]
  },
  {
   "cell_type": "markdown",
   "id": "a9cc2154-c321-4c71-b8fe-f702b4e160f9",
   "metadata": {},
   "source": [
    "3. list(列表)\n",
    "\n",
    "用方括号组织起来，每个元素用逗号隔开，每个元素可以是任意类型的内容"
   ]
  },
  {
   "cell_type": "code",
   "execution_count": null,
   "id": "f1b9a041-8300-4ad8-8d93-d9e675d31c90",
   "metadata": {},
   "outputs": [],
   "source": [
    "# 例子\n",
    "lst_a=[]\n",
    "lst_a=[1,2,3,4,5]\n",
    "lst_a=['a','b','c']\n",
    "lst_a=['a',1,['a','b','c']]"
   ]
  },
  {
   "cell_type": "code",
   "execution_count": null,
   "id": "b0b0568f-e75c-457b-88d5-3823937254f8",
   "metadata": {},
   "outputs": [],
   "source": [
    "# 推导式\n",
    "[i for i in range(5)]"
   ]
  },
  {
   "cell_type": "code",
   "execution_count": null,
   "id": "c116f2ef-985a-4af1-a268-d725935d3b22",
   "metadata": {},
   "outputs": [],
   "source": [
    "#处理列表每个元素\n",
    "['No.'+str(i) for i in range(5)]"
   ]
  },
  {
   "cell_type": "code",
   "execution_count": null,
   "id": "08c5c07f-b54b-47d4-b95c-d5529fff2410",
   "metadata": {},
   "outputs": [],
   "source": [
    "#加条件\n",
    "['No.'+str(i) for i in range(5) if i >2]"
   ]
  },
  {
   "cell_type": "markdown",
   "id": "e699d0c4-3da0-4ed0-ba94-ce16877d01c1",
   "metadata": {},
   "source": [
    "4. dict(字典)\n",
    "\n",
    "用花括号组织起来，由键值对组成，用逗号隔开"
   ]
  },
  {
   "cell_type": "code",
   "execution_count": null,
   "id": "90bae66a-a807-4de9-ab62-ebaadb45d6fe",
   "metadata": {},
   "outputs": [],
   "source": [
    "# 例子\n",
    "dict_a={}\n",
    "dict_p1={'name':'Tom', 'age':18, 'height': 180}"
   ]
  },
  {
   "cell_type": "code",
   "execution_count": null,
   "id": "a3220eed-e4d8-47a9-8d5e-346d0915e499",
   "metadata": {},
   "outputs": [],
   "source": [
    "# 访问字典\n",
    "dict_p1['age']"
   ]
  },
  {
   "cell_type": "markdown",
   "id": "da0abcc0-1818-4898-930a-b11f247cbc9b",
   "metadata": {},
   "source": [
    "## 判断和循环"
   ]
  },
  {
   "cell_type": "code",
   "execution_count": null,
   "id": "e4e03161-c6de-4393-b91a-c884d29914bf",
   "metadata": {},
   "outputs": [],
   "source": [
    "# 判断(==,！=)\n",
    "b!=100"
   ]
  },
  {
   "cell_type": "code",
   "execution_count": null,
   "id": "1498c020-3fdf-4904-a66a-287ea41749fc",
   "metadata": {},
   "outputs": [],
   "source": [
    "# 条件\n",
    "if 'd' in ['a','b','c']:\n",
    "    print('exist')\n",
    "else:\n",
    "    print('not exist')"
   ]
  },
  {
   "cell_type": "code",
   "execution_count": null,
   "id": "cff8ea9f-1a87-4db7-afaf-ea09c4078cde",
   "metadata": {},
   "outputs": [],
   "source": [
    "# 循环\n",
    "# list循环\n",
    "lst_subject=['10011001','10011002','10011003']\n",
    "for subject in lst_subject:\n",
    "    print(subject)"
   ]
  },
  {
   "cell_type": "code",
   "execution_count": null,
   "id": "8850c1d9-d0cd-48f2-b2bf-27fe8fbd286a",
   "metadata": {},
   "outputs": [],
   "source": [
    "# dict循环\n",
    "dict_sex={'10011001':'M',\n",
    "          '10011002':'F',\n",
    "          '10011003':'M',\n",
    "          '10011004':'M',\n",
    "          '10011005':'F',}\n",
    "for k,v in dict_sex.items():\n",
    "    if k == '10011001':\n",
    "        # print(k)\n",
    "        # print(v)\n",
    "        print(dict_sex[k])"
   ]
  }
 ],
 "metadata": {
  "kernelspec": {
   "display_name": "Python 3 (ipykernel)",
   "language": "python",
   "name": "python3"
  },
  "language_info": {
   "codemirror_mode": {
    "name": "ipython",
    "version": 3
   },
   "file_extension": ".py",
   "mimetype": "text/x-python",
   "name": "python",
   "nbconvert_exporter": "python",
   "pygments_lexer": "ipython3",
   "version": "3.10.5"
  }
 },
 "nbformat": 4,
 "nbformat_minor": 5
}
